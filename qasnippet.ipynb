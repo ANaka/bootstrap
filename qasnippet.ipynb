{
 "cells": [
  {
   "cell_type": "code",
   "execution_count": null,
   "metadata": {},
   "outputs": [],
   "source": [
    "# got this from internet\n",
    "import pathlib\n",
    "import subprocess\n",
    "import tempfile\n",
    "from langchain.docstore.document import Document\n",
    "import requests\n",
    "from langchain.text_splitter import CharacterTextSplitter\n",
    "from langchain.vectorstores.faiss import FAISS\n",
    "from langchain.embeddings.openai import OpenAIEmbeddings\n",
    "from langchain.chains.qa_with_sources import load_qa_with_sources_chain\n",
    "from langchain.llms import OpenAI\n",
    "\n",
    "def get_github_docs(repo_owner, repo_name):\n",
    "    with tempfile.TemporaryDirectory() as d:\n",
    "        subprocess.check_call(\n",
    "            f\"git clone --depth 1 https://github.com/{repo_owner}/{repo_name}.git .\",\n",
    "            cwd=d,\n",
    "            shell=True,\n",
    "        )\n",
    "        git_sha = (\n",
    "            subprocess.check_output(\"git rev-parse HEAD\", shell=True, cwd=d)\n",
    "            .decode(\"utf-8\")\n",
    "            .strip()\n",
    "        )\n",
    "        repo_path = pathlib.Path(d)\n",
    "        doc_files = []\n",
    "        for extension in ['.md', '.mdx', '.ipynb']:\n",
    "            \n",
    "            doc_files.extend(list(repo_path.glob(f\"**/*{extension}\")))\n",
    "\n",
    "        for doc_file in doc_files:\n",
    "            with open(doc_file, \"r\") as f:\n",
    "                relative_path = doc_file.relative_to(repo_path)\n",
    "                github_url = f\"https://github.com/{repo_owner}/{repo_name}/blob/{git_sha}/{relative_path}\"\n",
    "                yield Document(page_content=f.read(), metadata={\"source\": github_url})\n",
    "                \n",
    "sources = get_github_docs(\"hwchase17\", \"langchain\")\n",
    "# list(sources)\n",
    "\n",
    "source_chunks = []\n",
    "splitter = CharacterTextSplitter(separator=\" \", chunk_size=1024, chunk_overlap=0)\n",
    "for source in sources:\n",
    "    for chunk in splitter.split_text(source.page_content):\n",
    "        source_chunks.append(Document(page_content=chunk, metadata=source.metadata))\n",
    "        \n",
    "search_index = FAISS.from_documents(source_chunks, OpenAIEmbeddings())\n",
    "chain = load_qa_with_sources_chain(OpenAI(temperature=0, model_name='gpt-4'))\n",
    "\n",
    "question = \"I want to create a langchain tool that parses and validates blocks of python code. Will you write one for me\"\n",
    "output = chain(\n",
    "        {\n",
    "            \"input_documents\": search_index.similarity_search(question, k=4),\n",
    "            \"question\": question,\n",
    "        },\n",
    "        return_only_outputs=True,\n",
    "    )[\"output_text\"]"
   ]
  },
  {
   "cell_type": "code",
   "execution_count": 1,
   "metadata": {},
   "outputs": [],
   "source": [
    "from langchain.embeddings.openai import OpenAIEmbeddings\n",
    "from langchain.vectorstores import FAISS\n",
    "from langchain.text_splitter import CharacterTextSplitter\n",
    "from langchain import OpenAI, VectorDBQA\n",
    "from bootstrap import langchain_vectorstore_path\n",
    "from bootstrap.interface_setup import load_environment_variables\n",
    "\n",
    "load_environment_variables()"
   ]
  },
  {
   "cell_type": "code",
   "execution_count": 2,
   "metadata": {},
   "outputs": [],
   "source": [
    "langchain_vectorstore = FAISS.load_local(langchain_vectorstore_path, embeddings=OpenAIEmbeddings())"
   ]
  },
  {
   "cell_type": "code",
   "execution_count": 7,
   "metadata": {},
   "outputs": [],
   "source": [
    "llm = OpenAI(temperature=0., model_name='gpt-3.5-turbo')\n",
    "langchain_docs_chain = VectorDBQA.from_chain_type(\n",
    "    llm=llm, \n",
    "    chain_type=\"stuff\", \n",
    "    vectorstore=langchain_vectorstore,\n",
    "    verbose=True,\n",
    "    )"
   ]
  },
  {
   "cell_type": "code",
   "execution_count": 21,
   "metadata": {},
   "outputs": [],
   "source": [
    "from llama_index import GPTSimpleVectorIndex, SimpleDirectoryReader\n",
    "from bootstrap import repo_root, package_root"
   ]
  },
  {
   "cell_type": "code",
   "execution_count": 22,
   "metadata": {},
   "outputs": [],
   "source": [
    "from llama_index import download_loader\n",
    "\n",
    "GPTRepoReader = download_loader(\"GPTRepoReader\")\n",
    "\n",
    "loader = GPTRepoReader()\n"
   ]
  },
  {
   "cell_type": "code",
   "execution_count": 23,
   "metadata": {},
   "outputs": [],
   "source": [
    "\n",
    "documents = loader.load_data(repo_path=repo_root)"
   ]
  },
  {
   "cell_type": "code",
   "execution_count": null,
   "metadata": {},
   "outputs": [],
   "source": [
    "\n",
    "index = GPTSimpleVectorIndex(documents)"
   ]
  },
  {
   "cell_type": "code",
   "execution_count": null,
   "metadata": {},
   "outputs": [],
   "source": [
    "index.query('what libraries are imported in interface_setup.py?')"
   ]
  },
  {
   "cell_type": "code",
   "execution_count": 13,
   "metadata": {},
   "outputs": [],
   "source": [
    "# Import things that are needed generically\n",
    "from langchain.agents import initialize_agent, Tool, load_tools\n",
    "from langchain.tools import BaseTool\n",
    "from langchain.llms import OpenAI\n",
    "from langchain import LLMMathChain, SerpAPIWrapper\n",
    "\n",
    "tools = [\n",
    "    Tool(\n",
    "        name = \"Langchain docs search\",\n",
    "        func=langchain_docs_chain.run,\n",
    "        description=\"Useful for when you need to lookup information about `langchain` - a library for composing LLMs. Input should be a fully formed question.\"\n",
    "    ),\n",
    "    \n",
    "]\n",
    "tools.extend(load_tools(tool_names=['requests']))\n",
    "\n",
    "# Construct the agent. We will use the default agent type here.\n",
    "# See documentation for a full list of options.\n",
    "agent = initialize_agent(\n",
    "    tools=tools, \n",
    "    llm=OpenAI(temperature=0., model_name='gpt-3.5-turbo'), \n",
    "    agent=\"zero-shot-react-description\", \n",
    "    verbose=True)"
   ]
  },
  {
   "cell_type": "code",
   "execution_count": null,
   "metadata": {},
   "outputs": [],
   "source": [
    "agent.run('List all the agents available in langchain')"
   ]
  },
  {
   "cell_type": "code",
   "execution_count": 18,
   "metadata": {},
   "outputs": [
    {
     "name": "stdout",
     "output_type": "stream",
     "text": [
      "\n",
      "\n",
      "\u001b[1m> Entering new AgentExecutor chain...\u001b[0m\n",
      "\u001b[32;1m\u001b[1;3mI need to locate the documentation for agents using the available tools\n",
      "Action: Langchain docs search\n",
      "Action Input: \"How to use langchain agents\"\u001b[0m\n",
      "\n",
      "\u001b[1m> Entering new VectorDBQA chain...\u001b[0m\n",
      "\n",
      "\u001b[1m> Finished chain.\u001b[0m\n",
      "\n",
      "Observation: \u001b[36;1m\u001b[1;3m LangChain provides a standard interface for agents, a selection of agents to choose from, and examples of end to end agents. For more information on how to use them, please see the [Agent Documentation](../modules/agents.rst).\u001b[0m\n",
      "Thought:\u001b[32;1m\u001b[1;3mI have found the agent documentation\n",
      "Final Answer: The agent documentation can be found at ../modules/agents.rst in the Langchain docs.\u001b[0m\n",
      "\n",
      "\u001b[1m> Finished chain.\u001b[0m\n"
     ]
    },
    {
     "data": {
      "text/plain": [
       "'The agent documentation can be found at ../modules/agents.rst in the Langchain docs.'"
      ]
     },
     "execution_count": 18,
     "metadata": {},
     "output_type": "execute_result"
    }
   ],
   "source": [
    "agent.run('Show me the agent documentation')"
   ]
  },
  {
   "cell_type": "code",
   "execution_count": 11,
   "metadata": {},
   "outputs": [],
   "source": [
    "import inspect\n",
    "from langchain.agents import tool\n",
    "\n",
    "\n",
    "\n",
    "@tool(\"Get module source code\")\n",
    "def get_module_source_code(module_name):\n",
    "    \"\"\"Returns source code for an importable module.\"\"\"\n",
    "    try:\n",
    "        module = __import__(module_name)\n",
    "        source = inspect.getsource(module)\n",
    "        return source\n",
    "    except ImportError:\n",
    "        print(f\"Could not import module '{module_name}'\")\n",
    "        return None"
   ]
  },
  {
   "cell_type": "code",
   "execution_count": null,
   "metadata": {},
   "outputs": [],
   "source": []
  },
  {
   "cell_type": "code",
   "execution_count": 20,
   "metadata": {},
   "outputs": [
    {
     "data": {
      "text/plain": [
       "'from pathlib import Path\\n\\nrepo_root = Path(__file__).parent.parent\\npackage_root = Path(__file__).parent\\nvectorstores_root = package_root / \"vectorstores\"\\nlangchain_vectorstore_path = vectorstores_root / \"langchain.faiss\"\\n'"
      ]
     },
     "execution_count": 20,
     "metadata": {},
     "output_type": "execute_result"
    }
   ],
   "source": [
    "get_module_source_code(\"bootstrap.interface_setup\")"
   ]
  },
  {
   "cell_type": "code",
   "execution_count": 2,
   "metadata": {},
   "outputs": [],
   "source": []
  },
  {
   "cell_type": "code",
   "execution_count": 1,
   "metadata": {},
   "outputs": [],
   "source": [
    "\n",
    "from langchain.agents import initialize_agent, Tool\n",
    "from langchain.chat_models import ChatOpenAI\n",
    "from langchain.memory import ConversationBufferMemory\n",
    "\n",
    "from bootstrap.introspection import (\n",
    "    get_current_repo_functions_and_classes, \n",
    "    get_current_repo_definitions_summary,\n",
    "    get_source_code,\n",
    "    edit_source_code,\n",
    "    )\n",
    "\n",
    "memory = ConversationBufferMemory(memory_key=\"chat_history\", return_messages=True)\n",
    "\n",
    "tools = [\n",
    "    Tool(\n",
    "        name=\"Get current repo functions and classes\",\n",
    "        func=get_current_repo_definitions_summary,\n",
    "        description=get_current_repo_definitions_summary.__doc__,\n",
    "    ),\n",
    "    Tool(\n",
    "        name=\"Get source code\",\n",
    "        func=get_source_code,\n",
    "        description=get_source_code.__doc__,\n",
    "    ),\n",
    "    Tool(\n",
    "        name=\"Edit source code\",\n",
    "        func=edit_source_code,\n",
    "        description=edit_source_code.__doc__,\n",
    "    )\n",
    "]\n",
    "\n",
    "\n",
    "# Construct the agent. We will use the default agent type here.\n",
    "# See documentation for a full list of options.\n",
    "agent = initialize_agent(\n",
    "    tools=tools, \n",
    "    # llm=ChatOpenAI(temperature=0.7, model_name='gpt-3.5-turbo', ), \n",
    "    llm=ChatOpenAI(temperature=0.7, model_name='gpt-4', ), \n",
    "    agent=\"conversational-react-description\", \n",
    "    verbose=True,\n",
    "    memory=memory,\n",
    "    \n",
    "    )"
   ]
  },
  {
   "cell_type": "code",
   "execution_count": 2,
   "metadata": {},
   "outputs": [
    {
     "name": "stdout",
     "output_type": "stream",
     "text": [
      "\n",
      "\n",
      "\u001b[1m> Entering new AgentExecutor chain...\u001b[0m\n",
      "\u001b[32;1m\u001b[1;3mThought: Do I need to use a tool? Yes\n",
      "Action: Get current repo functions and classes\n",
      "Action Input: bootstrap.repo2docstore\u001b[0m\n",
      "Observation: \u001b[36;1m\u001b[1;3m[{'qualname': 'bootstrap.interface_setup.load_environment_variables', 'type': 'function', 'signature': 'load_environment_variables()', 'docstring': None}, {'qualname': 'bootstrap.interface_setup.create_human_message_template', 'type': 'function', 'signature': 'create_human_message_template()', 'docstring': None}, {'qualname': 'bootstrap.interface_setup.create_chat_prompt', 'type': 'function', 'signature': 'create_chat_prompt(human_message)', 'docstring': None}, {'qualname': 'bootstrap.interface_setup.create_conversation_chain', 'type': 'function', 'signature': 'create_conversation_chain(chat_prompt)', 'docstring': None}, {'qualname': 'bootstrap.dummy_module.dummy_function', 'type': 'function', 'signature': 'dummy_function(a, b)', 'docstring': None}, {'qualname': 'bootstrap.dummy_module.DummyClass', 'type': 'class', 'signature': 'class DummyClass', 'docstring': None}, {'qualname': 'bootstrap.introspection.get_full_definition', 'type': 'function', 'signature': 'get_full_definition(source, start_lineno, end_lineno)', 'docstring': 'Extracts the full definition of a code block from a given source code.\\n\\nParameters:\\n    source (str): The source code to extract the full definition from.\\n    start_lineno (int): The starting line number of the code block to extract.\\n    end_lineno (int): The ending line number of the code block to extract.\\n\\nReturns:\\n    The full definition of the code block as a string.'}, {'qualname': 'bootstrap.introspection.extract_function_info', 'type': 'function', 'signature': 'extract_function_info(node, source, rel_path)', 'docstring': 'Extracts information about a given function or async function node.\\n\\nParameters:\\n    node (ast.FunctionDef or ast.AsyncFunctionDef): The function or async function node to extract information from.\\n    source (str): The source code of the module containing the function node.\\n    rel_path (str): The relative path of the module containing the function node.\\n\\nReturns:\\n    A dictionary containing the extracted information.'}, {'qualname': 'bootstrap.introspection.extract_method_info', 'type': 'function', 'signature': 'extract_method_info(node, source)', 'docstring': 'Extracts information about a given method node.\\n\\nParameters:\\n    node (ast.FunctionDef or ast.AsyncFunctionDef): The method node to extract information from.\\n    source (str): The source code of the module containing the method node.\\n\\nReturns:\\n    A dictionary containing the extracted information.'}, {'qualname': 'bootstrap.introspection.extract_class_info', 'type': 'function', 'signature': 'extract_class_info(node, source, rel_path)', 'docstring': 'Extracts information about a given class node.Parameters:\\n    node (ast.ClassDef): The class node to extract information from.\\n    source (str): The source code of the module containing the class node.\\n    rel_path (str): The relative path of the module containing the class node.\\n\\nReturns:\\n    A dictionary containing the extracted information.'}, {'qualname': 'bootstrap.introspection.process_nodes', 'type': 'function', 'signature': 'process_nodes(module_ast, source, rel_path)', 'docstring': 'Processes all nodes in a given module AST.Parameters:\\n    module_ast (ast.Module): The module AST to process.\\n    source (str): The source code of the module.\\n    rel_path (str): The relative path of the module.\\n\\nReturns:\\n    A list of dictionaries containing the extracted information for all functions and classes in the module.'}, {'qualname': 'bootstrap.introspection.extract_functions_and_classes', 'type': 'function', 'signature': 'extract_functions_and_classes(path)', 'docstring': 'Extracts information about all the functions and classes in a given path.Parameters:\\n    path (str): The path to the directory to search for Python modules.\\n\\nReturns:\\n    A list of dictionaries representing the functions and classes found in the modules.'}, {'qualname': 'bootstrap.introspection.get_current_repo_functions_and_classes', 'type': 'function', 'signature': 'get_current_repo_functions_and_classes(, *args, **kwargs)', 'docstring': 'Extracts information about all the functions and classes in the current repo.\\n\\nReturns:\\n    A list of dictionaries representing the functions and classes found in the repo modules.'}, {'qualname': 'bootstrap.introspection.get_current_repo_definitions_summary', 'type': 'function', 'signature': 'get_current_repo_definitions_summary(, *args, **kwargs)', 'docstring': 'Extracts names of all the functions and classes in the current repo. This tool takes no inputs.'}, {'qualname': 'bootstrap.introspection._get_parent_module_source_code', 'type': 'function', 'signature': '_get_parent_module_source_code(function_qualname)', 'docstring': 'Given a function or class qualname, returns the source code of the module in which it resides.\\n\\nParameters:\\n    function_qualname (str): The qualname of the function or class.\\n\\nReturns:\\n    The source code of the parent module if found, otherwise None.'}, {'qualname': 'bootstrap.introspection._get_source_code', 'type': 'function', 'signature': '_get_source_code(qualname)', 'docstring': 'Given a function or class qualname, returns its source code.\\n\\nParameters:\\n    qualname (str): The qualname of the function or class.\\n\\nReturns:\\n    The source code of the function or class if found, otherwise None.'}, {'qualname': 'bootstrap.introspection.get_source_code', 'type': 'function', 'signature': 'get_source_code(input)', 'docstring': \"Given a function or class qualname, returns its source code. The input to this tool should be formatted as follows:\\n{'qualname': '<qualname of the function or class>'}\"}, {'qualname': 'bootstrap.introspection._edit_source_code', 'type': 'function', 'signature': '_edit_source_code(qualname, new_code)', 'docstring': 'Replaces the source code of a function or class with new code and saves the module.\\n\\nParameters:\\n    qualname (str): The qualname of the function or class.\\n    new_code (str): The new code to replace the original code.\\n\\nReturns:\\n    True if the source code was successfully updated, otherwise False.'}, {'qualname': 'bootstrap.introspection.edit_source_code', 'type': 'function', 'signature': 'edit_source_code(inputs)', 'docstring': \"Replaces the source code of a function or class with new code and saves the module.\\n\\nThe inputs to this tool should be a dictionary formatted as follows:\\n    {'qualname': '<qualname of the function or class>', 'new_code': '<new code>'}\"}, {'qualname': 'bootstrap.repo2docstore.create_faiss_index', 'type': 'function', 'signature': 'create_faiss_index(repo_owner, repo_name, index_path)', 'docstring': None}, {'qualname': 'bootstrap.repo2docstore.get_github_docs', 'type': 'function', 'signature': 'get_github_docs(repo_owner, repo_name)', 'docstring': None}, {'qualname': 'tests.test_introspection.test_get_source_code', 'type': 'function', 'signature': 'test_get_source_code()', 'docstring': None}, {'qualname': 'tests.test_introspection.test_edit_source_code', 'type': 'function', 'signature': 'test_edit_source_code()', 'docstring': None}, {'qualname': 'tests.test_interface_setup.test_load_environment_variables', 'type': 'function', 'signature': 'test_load_environment_variables()', 'docstring': None}, {'qualname': 'tests.test_interface_setup.test_create_chat_prompt', 'type': 'function', 'signature': 'test_create_chat_prompt()', 'docstring': None}]\u001b[0m\n",
      "Thought:\u001b[32;1m\u001b[1;3mDo I need to use a tool? No\n",
      "AI: Here are the function names in the `bootstrap.repo2docstore` module:\n",
      "\n",
      "1. create_faiss_index\n",
      "2. get_github_docs\u001b[0m\n",
      "\n",
      "\u001b[1m> Finished chain.\u001b[0m\n"
     ]
    },
    {
     "data": {
      "text/plain": [
       "'Here are the function names in the `bootstrap.repo2docstore` module:\\n\\n1. create_faiss_index\\n2. get_github_docs'"
      ]
     },
     "execution_count": 2,
     "metadata": {},
     "output_type": "execute_result"
    }
   ],
   "source": [
    "agent.run('give me the names of functions in bootstrap.repo2docstore')"
   ]
  },
  {
   "cell_type": "code",
   "execution_count": 2,
   "metadata": {},
   "outputs": [
    {
     "name": "stdout",
     "output_type": "stream",
     "text": [
      "\n",
      "\n",
      "\u001b[1m> Entering new AgentExecutor chain...\u001b[0m\n",
      "\u001b[32;1m\u001b[1;3mThought: Do I need to use a tool? Yes\n",
      "Action: Get source code\n",
      "Action Input: bootstrap.repo2docstore.get_github_docs\u001b[0m\n",
      "Observation: \u001b[33;1m\u001b[1;3mdef get_github_docs(repo_owner, repo_name):\n",
      "    with tempfile.TemporaryDirectory() as d:\n",
      "        subprocess.check_call(\n",
      "            f\"git clone --depth 1 https://github.com/{repo_owner}/{repo_name}.git .\",\n",
      "            cwd=d,\n",
      "            shell=True,\n",
      "        )\n",
      "        git_sha = (\n",
      "            subprocess.check_output(\"git rev-parse HEAD\", shell=True, cwd=d)\n",
      "            .decode(\"utf-8\")\n",
      "            .strip()\n",
      "        )\n",
      "        repo_path = pathlib.Path(d)\n",
      "        doc_files = []\n",
      "        for extension in ['.md', '.mdx', '.ipynb', '.py', '.rst']:\n",
      "            doc_files.extend(list(repo_path.glob(f\"**/*{extension}\")))\n",
      "        for doc_file in doc_files:\n",
      "            with open(doc_file, \"r\") as f:\n",
      "                relative_path = doc_file.relative_to(repo_path)\n",
      "                github_url = f\"https://github.com/{repo_owner}/{repo_name}/blob/{git_sha}/{relative_path}\"\n",
      "                yield Document(page_content=f.read(), metadata={\"source\": github_url})\u001b[0m\n",
      "Thought:\u001b[32;1m\u001b[1;3mDo I need to use a tool? No\n",
      "AI: Here is the source code for `bootstrap.repo2docstore.get_github_docs`:\n",
      "\n",
      "```python\n",
      "def get_github_docs(repo_owner, repo_name):\n",
      "    with tempfile.TemporaryDirectory() as d:\n",
      "        subprocess.check_call(\n",
      "            f\"git clone --depth 1 https://github.com/{repo_owner}/{repo_name}.git .\",\n",
      "            cwd=d,\n",
      "            shell=True,\n",
      "        )\n",
      "        git_sha = (\n",
      "            subprocess.check_output(\"git rev-parse HEAD\", shell=True, cwd=d)\n",
      "            .decode(\"utf-8\")\n",
      "            .strip()\n",
      "        )\n",
      "        repo_path = pathlib.Path(d)\n",
      "        doc_files = []\n",
      "        for extension in ['.md', '.mdx', '.ipynb', '.py', '.rst']:\n",
      "            doc_files.extend(list(repo_path.glob(f\"**/*{extension}\")))\n",
      "        for doc_file in doc_files:\n",
      "            with open(doc_file, \"r\") as f:\n",
      "                relative_path = doc_file.relative_to(repo_path)\n",
      "                github_url = f\"https://github.com/{repo_owner}/{repo_name}/blob/{git_sha}/{relative_path}\"\n",
      "                yield Document(page_content=f.read(), metadata={\"source\": github_url})\n",
      "```\n",
      "\n",
      "This function takes a `repo\u001b[0m\n",
      "\n",
      "\u001b[1m> Finished chain.\u001b[0m\n"
     ]
    },
    {
     "data": {
      "text/plain": [
       "'Here is the source code for `bootstrap.repo2docstore.get_github_docs`:\\n\\n```python\\ndef get_github_docs(repo_owner, repo_name):\\n    with tempfile.TemporaryDirectory() as d:\\n        subprocess.check_call(\\n            f\"git clone --depth 1 https://github.com/{repo_owner}/{repo_name}.git .\",\\n            cwd=d,\\n            shell=True,\\n        )\\n        git_sha = (\\n            subprocess.check_output(\"git rev-parse HEAD\", shell=True, cwd=d)\\n            .decode(\"utf-8\")\\n            .strip()\\n        )\\n        repo_path = pathlib.Path(d)\\n        doc_files = []\\n        for extension in [\\'.md\\', \\'.mdx\\', \\'.ipynb\\', \\'.py\\', \\'.rst\\']:\\n            doc_files.extend(list(repo_path.glob(f\"**/*{extension}\")))\\n        for doc_file in doc_files:\\n            with open(doc_file, \"r\") as f:\\n                relative_path = doc_file.relative_to(repo_path)\\n                github_url = f\"https://github.com/{repo_owner}/{repo_name}/blob/{git_sha}/{relative_path}\"\\n                yield Document(page_content=f.read(), metadata={\"source\": github_url})\\n```\\n\\nThis function takes a `repo'"
      ]
     },
     "execution_count": 2,
     "metadata": {},
     "output_type": "execute_result"
    }
   ],
   "source": [
    "agent.run('get the source code for `bootstrap.repo2docstore.get_github_docs`')"
   ]
  },
  {
   "cell_type": "code",
   "execution_count": 4,
   "metadata": {},
   "outputs": [
    {
     "name": "stdout",
     "output_type": "stream",
     "text": [
      "\n",
      "\n",
      "\u001b[1m> Entering new AgentExecutor chain...\u001b[0m\n",
      "\u001b[32;1m\u001b[1;3mThought: Do I need to use a tool? Yes\n",
      "Action: Edit source code\n",
      "Action Input: bootstrap.repo2docstore.get_github_docs\u001b[0m\n",
      "Observation: \u001b[38;5;200m\u001b[1;3m\n",
      "Error parsing inputs. Please ensure that the inputs are formatted as follows:\n",
      "{'qualname': '<qualname of the function or class>', 'new_code': '<new code>'}\n",
      "\u001b[0m\n",
      "Thought:\u001b[32;1m\u001b[1;3mDo I need to use a tool? No\n",
      "AI: Before proceeding to edit the source code, I'll first provide the rewritten source code for `bootstrap.repo2docstore.get_github_docs` with type-hinting. Here's the updated code:\n",
      "\n",
      "```python\n",
      "from pathlib import Path\n",
      "from typing import Iterator\n",
      "\n",
      "def get_github_docs(repo_owner: str, repo_name: str) -> Iterator[Document]:\n",
      "    with tempfile.TemporaryDirectory() as d:\n",
      "        subprocess.check_call(\n",
      "            f\"git clone --depth 1 https://github.com/{repo_owner}/{repo_name}.git .\",\n",
      "            cwd=d,\n",
      "            shell=True,\n",
      "        )\n",
      "        git_sha = (\n",
      "            subprocess.check_output(\"git rev-parse HEAD\", shell=True, cwd=d)\n",
      "            .decode(\"utf-8\")\n",
      "            .strip()\n",
      "        )\n",
      "        repo_path = pathlib.Path(d)\n",
      "        doc_files = []\n",
      "        for extension in ['.md', '.mdx', '.ipynb', '.py', '.rst']:\n",
      "            doc_files.extend(list(repo_path.glob(f\"**/*{extension}\")))\n",
      "        for doc_file in doc_files:\n",
      "            with open(doc_file, \"r\") as f:\n",
      "                relative_path = doc_file.relative_to(repo_path)\n",
      "                github_url = f\"https\u001b[0m\n",
      "\n",
      "\u001b[1m> Finished chain.\u001b[0m\n"
     ]
    },
    {
     "data": {
      "text/plain": [
       "'Before proceeding to edit the source code, I\\'ll first provide the rewritten source code for `bootstrap.repo2docstore.get_github_docs` with type-hinting. Here\\'s the updated code:\\n\\n```python\\nfrom pathlib import Path\\nfrom typing import Iterator\\n\\ndef get_github_docs(repo_owner: str, repo_name: str) -> Iterator[Document]:\\n    with tempfile.TemporaryDirectory() as d:\\n        subprocess.check_call(\\n            f\"git clone --depth 1 https://github.com/{repo_owner}/{repo_name}.git .\",\\n            cwd=d,\\n            shell=True,\\n        )\\n        git_sha = (\\n            subprocess.check_output(\"git rev-parse HEAD\", shell=True, cwd=d)\\n            .decode(\"utf-8\")\\n            .strip()\\n        )\\n        repo_path = pathlib.Path(d)\\n        doc_files = []\\n        for extension in [\\'.md\\', \\'.mdx\\', \\'.ipynb\\', \\'.py\\', \\'.rst\\']:\\n            doc_files.extend(list(repo_path.glob(f\"**/*{extension}\")))\\n        for doc_file in doc_files:\\n            with open(doc_file, \"r\") as f:\\n                relative_path = doc_file.relative_to(repo_path)\\n                github_url = f\"https'"
      ]
     },
     "execution_count": 4,
     "metadata": {},
     "output_type": "execute_result"
    }
   ],
   "source": [
    "agent.run('rewrite the source code for `bootstrap.repo2docstore.get_github_docs` so that it has type-hinting, then edit the source code')"
   ]
  },
  {
   "cell_type": "code",
   "execution_count": 5,
   "metadata": {},
   "outputs": [
    {
     "name": "stdout",
     "output_type": "stream",
     "text": [
      "\n",
      "\n",
      "\u001b[1m> Entering new AgentExecutor chain...\u001b[0m\n",
      "\u001b[32;1m\u001b[1;3mThought: Do I need to use a tool? Yes\n",
      "Action: Edit source code\n",
      "Action Input: \n",
      "from pathlib import Path\n",
      "from typing import Iterator\n",
      "\n",
      "def get_github_docs(repo_owner: str, repo_name: str) -> Iterator[Document]:\n",
      "    with tempfile.TemporaryDirectory() as d:\n",
      "        subprocess.check_call(\n",
      "            f\"git clone --depth 1 https://github.com/{repo_owner}/{repo_name}.git .\",\n",
      "            cwd=d,\n",
      "            shell=True,\n",
      "        )\n",
      "        git_sha = (\n",
      "            subprocess.check_output(\"git rev-parse HEAD\", shell=True, cwd=d)\n",
      "            .decode(\"utf-8\")\n",
      "            .strip()\n",
      "        )\n",
      "        repo_path = pathlib.Path(d)\n",
      "        doc_files = []\n",
      "        for extension in ['.md', '.mdx', '.ipynb', '.py', '.rst']:\n",
      "            doc_files.extend(list(repo_path.glob(f\"**/*{extension}\")))\n",
      "        for doc_file in doc_files:\n",
      "            with open(doc_file, \"r\") as f:\n",
      "                relative_path = doc_file.relative_to(repo_path)\n",
      "                github_url = f\"https://github.com/{repo_owner}/{repo_name}/blob/{git_sha}/{relative_path}\"\n",
      "                yield Document(page_content=f.read(), metadata={\"source\": github_url})\n",
      "\u001b[0m\n",
      "Observation: \u001b[38;5;200m\u001b[1;3m\n",
      "Error parsing inputs. Please ensure that the inputs are formatted as follows:\n",
      "{'qualname': '<qualname of the function or class>', 'new_code': '<new code>'}\n",
      "\u001b[0m\n",
      "Thought:\u001b[32;1m\u001b[1;3mDo I need to use a tool? Yes\n",
      "Action: Edit source code\n",
      "Action Input: {'qualname': 'bootstrap.repo2docstore.get_github_docs', 'new_code': 'from pathlib import Path\\nfrom typing import Iterator\\n\\ndef get_github_docs(repo_owner: str, repo_name: str) -> Iterator[Document]:\\n    with tempfile.TemporaryDirectory() as d:\\n        subprocess.check_call(\\n            f\"git clone --depth 1 https://github.com/{repo_owner}/{repo_name}.git .\",\\n            cwd=d,\\n            shell=True,\\n        )\\n        git_sha = (\\n            subprocess.check_output(\"git rev-parse HEAD\", shell=True, cwd=d)\\n            .decode(\"utf-8\")\\n            .strip()\\n        )\\n        repo_path = pathlib.Path(d)\\n        doc_files = []\\n        for extension in [\\'.md\\', \\'.mdx\\', \\'.ipynb\\', \\'.py\\', \\'.rst\\']:\\n            doc_files.extend(list(repo_path.glob(f\"**/*{extension}\")))\\n        for doc_file in doc_files:\\n            with open(doc_file, \"r\") as f:\\n\u001b[0m\n",
      "Observation: \u001b[38;5;200m\u001b[1;3m\n",
      "Error parsing inputs. Please ensure that the inputs are formatted as follows:\n",
      "{'qualname': '<qualname of the function or class>', 'new_code': '<new code>'}\n",
      "\u001b[0m\n",
      "Thought:\u001b[32;1m\u001b[1;3mDo I need to use a tool? Yes\n",
      "Action: Edit source code\n",
      "Action Input: {\"qualname\": \"bootstrap.repo2docstore.get_github_docs\", \"new_code\": \"from pathlib import Path\\nfrom typing import Iterator\\n\\ndef get_github_docs(repo_owner: str, repo_name: str) -> Iterator[Document]:\\n    with tempfile.TemporaryDirectory() as d:\\n        subprocess.check_call(\\n            f\\\"git clone --depth 1 https://github.com/{repo_owner}/{repo_name}.git .\\\",\\n            cwd=d,\\n            shell=True,\\n        )\\n        git_sha = (\\n            subprocess.check_output(\\\"git rev-parse HEAD\\\", shell=True, cwd=d)\\n            .decode(\\\"utf-8\\\")\\n            .strip()\\n        )\\n        repo_path = pathlib.Path(d)\\n        doc_files = []\\n        for extension in ['.md', '.mdx', '.ipynb', '.py', '.rst']:\\n            doc_files.extend(list(repo_path.glob(f\\\"**/*{extension}\\\")))\\n        for doc_file in doc_files:\\n            with open(doc_file, \\\"r\\\") as f:\\n                relative_path = doc_file.relative\u001b[0m\n",
      "Observation: \u001b[38;5;200m\u001b[1;3m\n",
      "Error parsing inputs. Please ensure that the inputs are formatted as follows:\n",
      "{'qualname': '<qualname of the function or class>', 'new_code': '<new code>'}\n",
      "\u001b[0m\n",
      "Thought:"
     ]
    },
    {
     "ename": "ValueError",
     "evalue": "Could not parse LLM output: `I apologize, but I am unable to modify the source code of the function using the tools available to me. However, you can apply the changes to the source code manually using the provided rewritten code with type-hinting.`",
     "output_type": "error",
     "traceback": [
      "\u001b[0;31m---------------------------------------------------------------------------\u001b[0m",
      "\u001b[0;31mValueError\u001b[0m                                Traceback (most recent call last)",
      "Cell \u001b[0;32mIn[5], line 1\u001b[0m\n\u001b[0;32m----> 1\u001b[0m agent\u001b[39m.\u001b[39;49mrun(\u001b[39m'\u001b[39;49m\u001b[39mthat looks good - edit the source code and overwrite the definition with your new one. make sure to respect the formatting of the Edit Source Code tool\u001b[39;49m\u001b[39m'\u001b[39;49m)\n",
      "File \u001b[0;32m~/Library/Caches/pypoetry/virtualenvs/bootstrap-TdbWQQRJ-py3.10/lib/python3.10/site-packages/langchain/chains/base.py:213\u001b[0m, in \u001b[0;36mChain.run\u001b[0;34m(self, *args, **kwargs)\u001b[0m\n\u001b[1;32m    211\u001b[0m     \u001b[39mif\u001b[39;00m \u001b[39mlen\u001b[39m(args) \u001b[39m!=\u001b[39m \u001b[39m1\u001b[39m:\n\u001b[1;32m    212\u001b[0m         \u001b[39mraise\u001b[39;00m \u001b[39mValueError\u001b[39;00m(\u001b[39m\"\u001b[39m\u001b[39m`run` supports only one positional argument.\u001b[39m\u001b[39m\"\u001b[39m)\n\u001b[0;32m--> 213\u001b[0m     \u001b[39mreturn\u001b[39;00m \u001b[39mself\u001b[39;49m(args[\u001b[39m0\u001b[39;49m])[\u001b[39mself\u001b[39m\u001b[39m.\u001b[39moutput_keys[\u001b[39m0\u001b[39m]]\n\u001b[1;32m    215\u001b[0m \u001b[39mif\u001b[39;00m kwargs \u001b[39mand\u001b[39;00m \u001b[39mnot\u001b[39;00m args:\n\u001b[1;32m    216\u001b[0m     \u001b[39mreturn\u001b[39;00m \u001b[39mself\u001b[39m(kwargs)[\u001b[39mself\u001b[39m\u001b[39m.\u001b[39moutput_keys[\u001b[39m0\u001b[39m]]\n",
      "File \u001b[0;32m~/Library/Caches/pypoetry/virtualenvs/bootstrap-TdbWQQRJ-py3.10/lib/python3.10/site-packages/langchain/chains/base.py:116\u001b[0m, in \u001b[0;36mChain.__call__\u001b[0;34m(self, inputs, return_only_outputs)\u001b[0m\n\u001b[1;32m    114\u001b[0m \u001b[39mexcept\u001b[39;00m (\u001b[39mKeyboardInterrupt\u001b[39;00m, \u001b[39mException\u001b[39;00m) \u001b[39mas\u001b[39;00m e:\n\u001b[1;32m    115\u001b[0m     \u001b[39mself\u001b[39m\u001b[39m.\u001b[39mcallback_manager\u001b[39m.\u001b[39mon_chain_error(e, verbose\u001b[39m=\u001b[39m\u001b[39mself\u001b[39m\u001b[39m.\u001b[39mverbose)\n\u001b[0;32m--> 116\u001b[0m     \u001b[39mraise\u001b[39;00m e\n\u001b[1;32m    117\u001b[0m \u001b[39mself\u001b[39m\u001b[39m.\u001b[39mcallback_manager\u001b[39m.\u001b[39mon_chain_end(outputs, verbose\u001b[39m=\u001b[39m\u001b[39mself\u001b[39m\u001b[39m.\u001b[39mverbose)\n\u001b[1;32m    118\u001b[0m \u001b[39mreturn\u001b[39;00m \u001b[39mself\u001b[39m\u001b[39m.\u001b[39mprep_outputs(inputs, outputs, return_only_outputs)\n",
      "File \u001b[0;32m~/Library/Caches/pypoetry/virtualenvs/bootstrap-TdbWQQRJ-py3.10/lib/python3.10/site-packages/langchain/chains/base.py:113\u001b[0m, in \u001b[0;36mChain.__call__\u001b[0;34m(self, inputs, return_only_outputs)\u001b[0m\n\u001b[1;32m    107\u001b[0m \u001b[39mself\u001b[39m\u001b[39m.\u001b[39mcallback_manager\u001b[39m.\u001b[39mon_chain_start(\n\u001b[1;32m    108\u001b[0m     {\u001b[39m\"\u001b[39m\u001b[39mname\u001b[39m\u001b[39m\"\u001b[39m: \u001b[39mself\u001b[39m\u001b[39m.\u001b[39m\u001b[39m__class__\u001b[39m\u001b[39m.\u001b[39m\u001b[39m__name__\u001b[39m},\n\u001b[1;32m    109\u001b[0m     inputs,\n\u001b[1;32m    110\u001b[0m     verbose\u001b[39m=\u001b[39m\u001b[39mself\u001b[39m\u001b[39m.\u001b[39mverbose,\n\u001b[1;32m    111\u001b[0m )\n\u001b[1;32m    112\u001b[0m \u001b[39mtry\u001b[39;00m:\n\u001b[0;32m--> 113\u001b[0m     outputs \u001b[39m=\u001b[39m \u001b[39mself\u001b[39;49m\u001b[39m.\u001b[39;49m_call(inputs)\n\u001b[1;32m    114\u001b[0m \u001b[39mexcept\u001b[39;00m (\u001b[39mKeyboardInterrupt\u001b[39;00m, \u001b[39mException\u001b[39;00m) \u001b[39mas\u001b[39;00m e:\n\u001b[1;32m    115\u001b[0m     \u001b[39mself\u001b[39m\u001b[39m.\u001b[39mcallback_manager\u001b[39m.\u001b[39mon_chain_error(e, verbose\u001b[39m=\u001b[39m\u001b[39mself\u001b[39m\u001b[39m.\u001b[39mverbose)\n",
      "File \u001b[0;32m~/Library/Caches/pypoetry/virtualenvs/bootstrap-TdbWQQRJ-py3.10/lib/python3.10/site-packages/langchain/agents/agent.py:505\u001b[0m, in \u001b[0;36mAgentExecutor._call\u001b[0;34m(self, inputs)\u001b[0m\n\u001b[1;32m    503\u001b[0m \u001b[39m# We now enter the agent loop (until it returns something).\u001b[39;00m\n\u001b[1;32m    504\u001b[0m \u001b[39mwhile\u001b[39;00m \u001b[39mself\u001b[39m\u001b[39m.\u001b[39m_should_continue(iterations):\n\u001b[0;32m--> 505\u001b[0m     next_step_output \u001b[39m=\u001b[39m \u001b[39mself\u001b[39;49m\u001b[39m.\u001b[39;49m_take_next_step(\n\u001b[1;32m    506\u001b[0m         name_to_tool_map, color_mapping, inputs, intermediate_steps\n\u001b[1;32m    507\u001b[0m     )\n\u001b[1;32m    508\u001b[0m     \u001b[39mif\u001b[39;00m \u001b[39misinstance\u001b[39m(next_step_output, AgentFinish):\n\u001b[1;32m    509\u001b[0m         \u001b[39mreturn\u001b[39;00m \u001b[39mself\u001b[39m\u001b[39m.\u001b[39m_return(next_step_output, intermediate_steps)\n",
      "File \u001b[0;32m~/Library/Caches/pypoetry/virtualenvs/bootstrap-TdbWQQRJ-py3.10/lib/python3.10/site-packages/langchain/agents/agent.py:409\u001b[0m, in \u001b[0;36mAgentExecutor._take_next_step\u001b[0;34m(self, name_to_tool_map, color_mapping, inputs, intermediate_steps)\u001b[0m\n\u001b[1;32m    404\u001b[0m \u001b[39m\u001b[39m\u001b[39m\"\"\"Take a single step in the thought-action-observation loop.\u001b[39;00m\n\u001b[1;32m    405\u001b[0m \n\u001b[1;32m    406\u001b[0m \u001b[39mOverride this to take control of how the agent makes and acts on choices.\u001b[39;00m\n\u001b[1;32m    407\u001b[0m \u001b[39m\"\"\"\u001b[39;00m\n\u001b[1;32m    408\u001b[0m \u001b[39m# Call the LLM to see what to do.\u001b[39;00m\n\u001b[0;32m--> 409\u001b[0m output \u001b[39m=\u001b[39m \u001b[39mself\u001b[39;49m\u001b[39m.\u001b[39;49magent\u001b[39m.\u001b[39;49mplan(intermediate_steps, \u001b[39m*\u001b[39;49m\u001b[39m*\u001b[39;49minputs)\n\u001b[1;32m    410\u001b[0m \u001b[39m# If the tool chosen is the finishing tool, then we end and return.\u001b[39;00m\n\u001b[1;32m    411\u001b[0m \u001b[39mif\u001b[39;00m \u001b[39misinstance\u001b[39m(output, AgentFinish):\n",
      "File \u001b[0;32m~/Library/Caches/pypoetry/virtualenvs/bootstrap-TdbWQQRJ-py3.10/lib/python3.10/site-packages/langchain/agents/agent.py:105\u001b[0m, in \u001b[0;36mAgent.plan\u001b[0;34m(self, intermediate_steps, **kwargs)\u001b[0m\n\u001b[1;32m     94\u001b[0m \u001b[39m\u001b[39m\u001b[39m\"\"\"Given input, decided what to do.\u001b[39;00m\n\u001b[1;32m     95\u001b[0m \n\u001b[1;32m     96\u001b[0m \u001b[39mArgs:\u001b[39;00m\n\u001b[0;32m   (...)\u001b[0m\n\u001b[1;32m    102\u001b[0m \u001b[39m    Action specifying what tool to use.\u001b[39;00m\n\u001b[1;32m    103\u001b[0m \u001b[39m\"\"\"\u001b[39;00m\n\u001b[1;32m    104\u001b[0m full_inputs \u001b[39m=\u001b[39m \u001b[39mself\u001b[39m\u001b[39m.\u001b[39mget_full_inputs(intermediate_steps, \u001b[39m*\u001b[39m\u001b[39m*\u001b[39mkwargs)\n\u001b[0;32m--> 105\u001b[0m action \u001b[39m=\u001b[39m \u001b[39mself\u001b[39;49m\u001b[39m.\u001b[39;49m_get_next_action(full_inputs)\n\u001b[1;32m    106\u001b[0m \u001b[39mif\u001b[39;00m action\u001b[39m.\u001b[39mtool \u001b[39m==\u001b[39m \u001b[39mself\u001b[39m\u001b[39m.\u001b[39mfinish_tool_name:\n\u001b[1;32m    107\u001b[0m     \u001b[39mreturn\u001b[39;00m AgentFinish({\u001b[39m\"\u001b[39m\u001b[39moutput\u001b[39m\u001b[39m\"\u001b[39m: action\u001b[39m.\u001b[39mtool_input}, action\u001b[39m.\u001b[39mlog)\n",
      "File \u001b[0;32m~/Library/Caches/pypoetry/virtualenvs/bootstrap-TdbWQQRJ-py3.10/lib/python3.10/site-packages/langchain/agents/agent.py:67\u001b[0m, in \u001b[0;36mAgent._get_next_action\u001b[0;34m(self, full_inputs)\u001b[0m\n\u001b[1;32m     65\u001b[0m \u001b[39mdef\u001b[39;00m \u001b[39m_get_next_action\u001b[39m(\u001b[39mself\u001b[39m, full_inputs: Dict[\u001b[39mstr\u001b[39m, \u001b[39mstr\u001b[39m]) \u001b[39m-\u001b[39m\u001b[39m>\u001b[39m AgentAction:\n\u001b[1;32m     66\u001b[0m     full_output \u001b[39m=\u001b[39m \u001b[39mself\u001b[39m\u001b[39m.\u001b[39mllm_chain\u001b[39m.\u001b[39mpredict(\u001b[39m*\u001b[39m\u001b[39m*\u001b[39mfull_inputs)\n\u001b[0;32m---> 67\u001b[0m     parsed_output \u001b[39m=\u001b[39m \u001b[39mself\u001b[39;49m\u001b[39m.\u001b[39;49m_extract_tool_and_input(full_output)\n\u001b[1;32m     68\u001b[0m     \u001b[39mwhile\u001b[39;00m parsed_output \u001b[39mis\u001b[39;00m \u001b[39mNone\u001b[39;00m:\n\u001b[1;32m     69\u001b[0m         full_output \u001b[39m=\u001b[39m \u001b[39mself\u001b[39m\u001b[39m.\u001b[39m_fix_text(full_output)\n",
      "File \u001b[0;32m~/Library/Caches/pypoetry/virtualenvs/bootstrap-TdbWQQRJ-py3.10/lib/python3.10/site-packages/langchain/agents/conversational/base.py:84\u001b[0m, in \u001b[0;36mConversationalAgent._extract_tool_and_input\u001b[0;34m(self, llm_output)\u001b[0m\n\u001b[1;32m     82\u001b[0m match \u001b[39m=\u001b[39m re\u001b[39m.\u001b[39msearch(regex, llm_output)\n\u001b[1;32m     83\u001b[0m \u001b[39mif\u001b[39;00m \u001b[39mnot\u001b[39;00m match:\n\u001b[0;32m---> 84\u001b[0m     \u001b[39mraise\u001b[39;00m \u001b[39mValueError\u001b[39;00m(\u001b[39mf\u001b[39m\u001b[39m\"\u001b[39m\u001b[39mCould not parse LLM output: `\u001b[39m\u001b[39m{\u001b[39;00mllm_output\u001b[39m}\u001b[39;00m\u001b[39m`\u001b[39m\u001b[39m\"\u001b[39m)\n\u001b[1;32m     85\u001b[0m action \u001b[39m=\u001b[39m match\u001b[39m.\u001b[39mgroup(\u001b[39m1\u001b[39m)\n\u001b[1;32m     86\u001b[0m action_input \u001b[39m=\u001b[39m match\u001b[39m.\u001b[39mgroup(\u001b[39m2\u001b[39m)\n",
      "\u001b[0;31mValueError\u001b[0m: Could not parse LLM output: `I apologize, but I am unable to modify the source code of the function using the tools available to me. However, you can apply the changes to the source code manually using the provided rewritten code with type-hinting.`"
     ]
    }
   ],
   "source": [
    "agent.run('that looks good - edit the source code and overwrite the definition with your new one. make sure to respect the formatting of the Edit Source Code tool')"
   ]
  }
 ],
 "metadata": {
  "kernelspec": {
   "display_name": "bootstrap-TdbWQQRJ-py3.10",
   "language": "python",
   "name": "python3"
  },
  "language_info": {
   "codemirror_mode": {
    "name": "ipython",
    "version": 3
   },
   "file_extension": ".py",
   "mimetype": "text/x-python",
   "name": "python",
   "nbconvert_exporter": "python",
   "pygments_lexer": "ipython3",
   "version": "3.10.9"
  },
  "orig_nbformat": 4
 },
 "nbformat": 4,
 "nbformat_minor": 2
}
