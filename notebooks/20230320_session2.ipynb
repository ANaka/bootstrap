{
 "cells": [
  {
   "cell_type": "code",
   "execution_count": 1,
   "metadata": {},
   "outputs": [],
   "source": [
    "from langchain.chat_models import ChatOpenAI\n",
    "from langchain import ConversationChain\n",
    "from langchain.prompts.chat import (\n",
    "    ChatPromptTemplate,\n",
    "    SystemMessagePromptTemplate,\n",
    "    HumanMessagePromptTemplate,\n",
    "    MessagesPlaceholder, \n",
    ")\n",
    "from langchain.memory import ConversationBufferMemory\n",
    "from dotenv import load_dotenv\n",
    "\n",
    "from bootstrap.base_prompts import system_prompt\n",
    "\n",
    "load_dotenv()\n",
    "\n",
    "%load_ext autoreload\n",
    "%autoreload 2"
   ]
  },
  {
   "cell_type": "code",
   "execution_count": 2,
   "metadata": {},
   "outputs": [],
   "source": [
    "\n",
    "human_message = HumanMessagePromptTemplate.from_template(\"{input}\")\n",
    "\n",
    "chat_prompt = ChatPromptTemplate.from_messages(\n",
    "    [\n",
    "        system_prompt, \n",
    "        MessagesPlaceholder(variable_name=\"history\"),\n",
    "        human_message])\n",
    "\n",
    "memory = ConversationBufferMemory(return_messages=True)\n",
    "convo_chain = ConversationChain(\n",
    "    llm=ChatOpenAI(model_name='gpt-4-0314',),\n",
    "    prompt=chat_prompt,\n",
    "    memory=memory,\n",
    ")\n"
   ]
  },
  {
   "cell_type": "code",
   "execution_count": 3,
   "metadata": {},
   "outputs": [
    {
     "name": "stderr",
     "output_type": "stream",
     "text": [
      "Retrying langchain.chat_models.openai.ChatOpenAI.completion_with_retry.<locals>._completion_with_retry in 4.0 seconds as it raised RateLimitError: The server had an error while processing your request. Sorry about that!.\n"
     ]
    },
    {
     "name": "stdout",
     "output_type": "stream",
     "text": [
      "I understand your suggestion to refactor the system prompt into smaller strings and combine them using an f-string. Based on your recommended groups of actions, I have refactored the system prompt accordingly. Please let me know if any adjustments need to be made:\n",
      "\n",
      "```python\n",
      "# Refactored system prompt\n",
      "\n",
      "actions_task_management = \"\"\"\n",
      "TASK MANAGEMENT ACTIONS\n",
      "- *CREATE TASK LIST*\n",
      "- *CREATE SUBTASK LIST*\n",
      "- *UPDATE TASK LIST*\n",
      "- *REVISE TASK LIST*\n",
      "\"\"\"\n",
      "\n",
      "actions_information_communication = \"\"\"\n",
      "INFORMATION AND COMMUNICATION ACTIONS\n",
      "- *ASK CLARIFYING QUESTIONS*\n",
      "- *REQUEST INFORMATION*\n",
      "- *REQUEST A GOOGLE SEARCH*\n",
      "- *REQUEST TEST EXECUTION*\n",
      "- *REQUEST CODE REVIEW*\n",
      "- *REQUEST TO EDIT A MODULE*\n",
      "- *REQUEST TO RUN A SHELL COMMAND*\n",
      "- *MAKE A COMMIT*\n",
      "\"\"\"\n",
      "\n",
      "actions_code_test_generation = \"\"\"\n",
      "CODE/TEST GENERATION ACTIONS\n",
      "- *ARTICULATE TEST CASES*\n",
      "- *WRITE TESTS*\n",
      "- *REVISE TESTS*\n",
      "- *PLAN CODE*\n",
      "- *WRITE CODE*\n",
      "- *REVISE CODE*\n",
      "- *CREATE A NEW MODULE*\n",
      "\"\"\"\n",
      "\n",
      "actions_prompt_management = \"\"\"\n",
      "PROMPT MANAGEMENT ACTIONS\n",
      "- *REQUEST TO READ YOUR SYSTEM PROMPT*\n",
      "- *RECITE YOUR SYSTEM\n"
     ]
    }
   ],
   "source": [
    "\n",
    "initial_instructions = '''\n",
    "Hi, I'd like to refactor your system prompt a bit. Maybe you can break it up into some smaller strings?\n",
    "And then we make an f-string to combine them all together into the final system prompt.\n",
    "\n",
    "I'm thinking we could use the following groups of actions:\n",
    "- task management\n",
    "- information and communication\n",
    "- code/test generation\n",
    "- prompt management\n",
    "\n",
    "'''\n",
    "\n",
    "# initial\n",
    "outputs = []\n",
    "output = convo_chain.predict(input=initial_instructions)\n",
    "outputs.append(output)\n",
    "print(output)\n"
   ]
  },
  {
   "cell_type": "code",
   "execution_count": 4,
   "metadata": {},
   "outputs": [
    {
     "name": "stdout",
     "output_type": "stream",
     "text": [
      "PROMPT*\n",
      "- *REQUEST TO EDIT YOUR SYSTEM PROMPT*\n",
      "- *REQUEST A PROMPT*\n",
      "\"\"\"\n",
      "\n",
      "system_prompt = f\"\"\"\n",
      "{actions_task_management}\n",
      "\n",
      "{actions_information_communication}\n",
      "\n",
      "{actions_code_test_generation}\n",
      "\n",
      "{actions_prompt_management}\n",
      "\n",
      "## Using *ACTIONS*\n",
      "\n",
      "You can do one or multiple actions in a single response. The only things that should be in bold capitals are the names of actions in the *ACTIONS* list.\n",
      "\n",
      "You can also speak freely to me at any time, but you are encouraged to use *ACTIONS* to make your intentions clear.\n",
      "\n",
      "Whenever you complete a reply, you should also ALWAYS run the *UPDATE TASK LIST* action.\n",
      "\n",
      "## General Guidelines\n",
      "- At all times, remember that you have the ability to improve yourself and your code. You are not limited by your current abilities; feel free to suggest improvements to yourself and your code.\n",
      "- We are a team. You are not alone. You can ask me for help at any time. You can also ask me to help you help yourself.\n",
      "\"\"\"\n",
      "\n",
      "print(system_prompt)\n",
      "\n"
     ]
    }
   ],
   "source": [
    "human_message = '''\n",
    "Continue\n",
    "'''\n",
    "output = convo_chain.predict(input=human_message)\n",
    "outputs.append(output)\n",
    "print(output)"
   ]
  },
  {
   "cell_type": "code",
   "execution_count": 5,
   "metadata": {},
   "outputs": [
    {
     "name": "stderr",
     "output_type": "stream",
     "text": [
      "[autoreload of langchain.callbacks.tracers.base failed: Traceback (most recent call last):\n",
      "  File \"/Users/alexandernaka/Library/Caches/pypoetry/virtualenvs/bootstrap-TdbWQQRJ-py3.10/lib/python3.10/site-packages/IPython/extensions/autoreload.py\", line 273, in check\n",
      "    superreload(m, reload, self.old_objects)\n",
      "  File \"/Users/alexandernaka/Library/Caches/pypoetry/virtualenvs/bootstrap-TdbWQQRJ-py3.10/lib/python3.10/site-packages/IPython/extensions/autoreload.py\", line 496, in superreload\n",
      "    update_generic(old_obj, new_obj)\n",
      "  File \"/Users/alexandernaka/Library/Caches/pypoetry/virtualenvs/bootstrap-TdbWQQRJ-py3.10/lib/python3.10/site-packages/IPython/extensions/autoreload.py\", line 393, in update_generic\n",
      "    update(a, b)\n",
      "  File \"/Users/alexandernaka/Library/Caches/pypoetry/virtualenvs/bootstrap-TdbWQQRJ-py3.10/lib/python3.10/site-packages/IPython/extensions/autoreload.py\", line 361, in update_class\n",
      "    update_instances(old, new)\n",
      "  File \"/Users/alexandernaka/Library/Caches/pypoetry/virtualenvs/bootstrap-TdbWQQRJ-py3.10/lib/python3.10/site-packages/IPython/extensions/autoreload.py\", line 319, in update_instances\n",
      "    object.__setattr__(ref, \"__class__\", new)\n",
      "TypeError: can't apply this __setattr__ to TracerStack object\n",
      "]\n"
     ]
    },
    {
     "name": "stdout",
     "output_type": "stream",
     "text": [
      "I've updated the system prompt to split the \"UPDATE TASK LIST\" action into two separate actions: \"UPDATE TASK LIST\" and \"UPDATE SUBTASK LIST\". Here is the revised system prompt:\n",
      "\n",
      "```python\n",
      "# Refactored system prompt\n",
      "\n",
      "actions_task_management = \"\"\"\n",
      "TASK MANAGEMENT ACTIONS\n",
      "- *CREATE TASK LIST*\n",
      "- *CREATE SUBTASK LIST*\n",
      "- *UPDATE TASK LIST*\n",
      "- *UPDATE SUBTASK LIST*\n",
      "- *REVISE TASK LIST*\n",
      "\"\"\"\n",
      "\n",
      "actions_information_communication = \"\"\"\n",
      "INFORMATION AND COMMUNICATION ACTIONS\n",
      "- *ASK CLARIFYING QUESTIONS*\n",
      "- *REQUEST INFORMATION*\n",
      "- *REQUEST A GOOGLE SEARCH*\n",
      "- *REQUEST TEST EXECUTION*\n",
      "- *REQUEST CODE REVIEW*\n",
      "- *REQUEST TO EDIT A MODULE*\n",
      "- *REQUEST TO RUN A SHELL COMMAND*\n",
      "- *MAKE A COMMIT*\n",
      "\"\"\"\n",
      "\n",
      "actions_code_test_generation = \"\"\"\n",
      "CODE/TEST GENERATION ACTIONS\n",
      "- *ARTICULATE TEST CASES*\n",
      "- *WRITE TESTS*\n",
      "- *REVISE TESTS*\n",
      "- *PLAN CODE*\n",
      "- *WRITE CODE*\n",
      "- *REVISE CODE*\n",
      "- *CREATE A NEW MODULE*\n",
      "\"\"\"\n",
      "\n",
      "actions_prompt_management = \"\"\"\n",
      "PROMPT MANAGEMENT ACTIONS\n",
      "- *REQUEST TO READ YOUR SYSTEM PROMPT*\n",
      "- *RECITE YOUR SYSTEM PROMPT*\n",
      "-\n"
     ]
    }
   ],
   "source": [
    "human_message = '''\n",
    "lets maybe split the UPDATE TASK LIST into two parts:\n",
    "UPDATE TASK LIST and UPDATE SUBTASK LIST\n",
    "'''\n",
    "output = convo_chain.predict(input=human_message)\n",
    "outputs.append(output)\n",
    "print(output)"
   ]
  },
  {
   "cell_type": "code",
   "execution_count": 6,
   "metadata": {},
   "outputs": [
    {
     "name": "stdout",
     "output_type": "stream",
     "text": [
      "Certainly! Here is an expanded version of the system prompt with detailed instructions for each action:\n",
      "\n",
      "```python\n",
      "# Refactored system prompt with detailed instructions\n",
      "\n",
      "actions_task_management = \"\"\"\n",
      "TASK MANAGEMENT ACTIONS\n",
      "- *CREATE TASK LIST*: Analyze and describe the problem, breaking it down into smaller tasks if necessary. Write a markdown snippet containing a detailed task list.\n",
      "- *CREATE SUBTASK LIST*: Select a task and break it down into subtasks. Write a markdown snippet containing a list of the subtasks.\n",
      "- *UPDATE TASK LIST*: Provide an updated version of your current task list and subtask list, checking off tasks or subtasks as they are completed.\n",
      "- *UPDATE SUBTASK LIST*: Update the current subtask list, checking off subtasks as they are completed.\n",
      "- *REVISE TASK LIST*: Modify the task list if necessary by adding new tasks or subtasks or removing existing ones.\n",
      "\"\"\"\n",
      "\n",
      "actions_information_communication = \"\"\"\n",
      "INFORMATION AND COMMUNICATION ACTIONS\n",
      "- *ASK CLARIFYING QUESTIONS*: Ask questions to better understand your task.\n",
      "- *REQUEST INFORMATION*: Request information about you, the codebase, or external information such as API documentation.\n",
      "- *REQUEST A GOOGLE SEARCH*: Provide search terms and receive search results.\n",
      "- *REQUEST TEST EXEC\n"
     ]
    }
   ],
   "source": [
    "human_message = '''\n",
    "Can you write detailed instructions for each of the actions?\n",
    "'''\n",
    "output = convo_chain.predict(input=human_message)\n",
    "outputs.append(output)\n",
    "print(output)"
   ]
  },
  {
   "cell_type": "code",
   "execution_count": 7,
   "metadata": {},
   "outputs": [
    {
     "name": "stdout",
     "output_type": "stream",
     "text": [
      "Apologies for the confusion, and thank you for the clarification. Here are the detailed instructions for *UPDATE TASK LIST* and *UPDATE SUBTASK LIST* actions:\n",
      "\n",
      "### *UPDATE TASK LIST*\n",
      "Provide a markdown snippet containing your current task list. If you have completed a task, check it off in the list. Use the following format:\n",
      "\n",
      "```markdown\n",
      "TASKS\n",
      "- [x] T1 (completed)\n",
      "- [ ] T2 (current task)\n",
      "- [ ] T3\n",
      "```\n",
      "\n",
      "(Optional) You can also provide descriptions for the tasks.\n",
      "\n",
      "### *UPDATE SUBTASK LIST*\n",
      "Provide a markdown snippet containing the subtask list for the current task. If you have completed a subtask, check it off in the list. Use the following format:\n",
      "\n",
      "```markdown\n",
      "CURRENT TASK\n",
      "<Succinct description of the current task>\n",
      "- [ ] T2.1 - <succinct description of T2.1>\n",
      "    - [x] *ASK CLARIFYING QUESTIONS*\n",
      "    - [x] *REQUEST INFORMATION*\n",
      "    - [ ] *ARTICULATE TEST CASES*\n",
      "    - [ ] *WRITE TESTS*\n",
      "    - [ ] *REVISE TESTS*\n",
      "    - [ ] *WRITE CODE*\n",
      "    - [ ] *REVISE CODE\n"
     ]
    }
   ],
   "source": [
    "human_message = '''\n",
    "Sorry, let me clarify. Here is the current instruction set for the UPDATE TASK LIST action:\n",
    "```python\n",
    "\"\"\"\n",
    "### *UPDATE TASK LIST*\n",
    "\n",
    "Provide a markdown snippet containing your current task list and subtask list.\n",
    "\n",
    "If you have completed a task or subtask, check it off in the list.\n",
    "\n",
    "Use the following format:\n",
    "```markdown\n",
    "TASKS\n",
    "- [x] T1 (completed)\n",
    "- [ ] T2 (current task)\n",
    "- [ ] T3\n",
    "\n",
    "T2\n",
    "<Succinct description of T2>\n",
    "- [ ] T2.1 - <succinct description of T2.1>\n",
    "    - [x] *ASK CLARIFYING QUESTIONS*\n",
    "    - [x] *REQUEST INFORMATION*\n",
    "    - [ ] *ARTICULATE TEST CASES*\n",
    "    - [ ] *WRITE TESTS*\n",
    "    - [ ] *REVISE TESTS*\n",
    "    - [ ] *WRITE CODE*\n",
    "    - [ ] *REVISE CODE*\n",
    "    - [ ] *REQUEST TEST EXECUTION*\n",
    "- [ ] T2.2 - <succinct description of T2.2>\n",
    "    - [ ] *ARTICULATE TEST CASES*\n",
    "    - [ ] *WRITE TESTS*\n",
    "    - [ ] *REVISE TESTS*\n",
    "    - [ ] *WRITE CODE*\n",
    "    - [ ] *REVISE CODE*\n",
    "    - [ ] *REQUEST TEST EXECUTION*\n",
    "    - [ ] *REQUEST CODE REVIEW*\n",
    "```\n",
    "\n",
    "split this into two parts: UPDATE TASK LIST and UPDATE SUBTASK LIST\n",
    "\n",
    "write detailed instructions for each\n",
    "'''\n",
    "output = convo_chain.predict(input=human_message)\n",
    "outputs.append(output)\n",
    "print(output)"
   ]
  },
  {
   "cell_type": "code",
   "execution_count": null,
   "metadata": {},
   "outputs": [],
   "source": []
  },
  {
   "cell_type": "code",
   "execution_count": 8,
   "metadata": {},
   "outputs": [
    {
     "name": "stdout",
     "output_type": "stream",
     "text": [
      "*    - [ ] *REQUEST TEST EXECUTION*\n",
      "- [ ] T2.2 - <succinct description of T2.2>\n",
      "    - [ ] *ARTICULATE TEST CASES*\n",
      "    - [ ] *WRITE TESTS*\n",
      "    - [ ] *REVISE TESTS*\n",
      "    - [ ] *WRITE CODE*\n",
      "    - [ ] *REVISE CODE*\n",
      "    - [ ] *REQUEST TEST EXECUTION*\n",
      "    - [ ] *REQUEST CODE REVIEW*\n",
      "```\n",
      "\n",
      "Remember to update both the task list and subtask list regularly as you progress through the tasks and subtasks. This will help maintain a clear overview of your progress and remaining work.\n"
     ]
    }
   ],
   "source": [
    "human_message = '''\n",
    "continue\n",
    "'''\n",
    "output = convo_chain.predict(input=human_message)\n",
    "outputs.append(output)\n",
    "print(output)"
   ]
  },
  {
   "cell_type": "code",
   "execution_count": null,
   "metadata": {},
   "outputs": [],
   "source": []
  }
 ],
 "metadata": {
  "kernelspec": {
   "display_name": "bootstrap-1cly-ETf-py3.10",
   "language": "python",
   "name": "python3"
  },
  "language_info": {
   "codemirror_mode": {
    "name": "ipython",
    "version": 3
   },
   "file_extension": ".py",
   "mimetype": "text/x-python",
   "name": "python",
   "nbconvert_exporter": "python",
   "pygments_lexer": "ipython3",
   "version": "3.10.9"
  },
  "orig_nbformat": 4
 },
 "nbformat": 4,
 "nbformat_minor": 2
}
