{
 "cells": [
  {
   "cell_type": "code",
   "execution_count": 1,
   "metadata": {},
   "outputs": [],
   "source": [
    "from langchain.chat_models import ChatOpenAI\n",
    "from langchain import ConversationChain\n",
    "from langchain.prompts.chat import (\n",
    "    ChatPromptTemplate,\n",
    "    SystemMessagePromptTemplate,\n",
    "    HumanMessagePromptTemplate,\n",
    "    MessagesPlaceholder, \n",
    ")\n",
    "from langchain.memory import ConversationBufferMemory\n",
    "from dotenv import load_dotenv\n",
    "\n",
    "from bootstrap.base_prompts import system_prompt\n",
    "\n",
    "load_dotenv()\n",
    "\n",
    "%load_ext autoreload\n",
    "%autoreload 2"
   ]
  },
  {
   "cell_type": "code",
   "execution_count": 2,
   "metadata": {},
   "outputs": [],
   "source": [
    "\n",
    "human_message = HumanMessagePromptTemplate.from_template(\"{input}\")\n",
    "\n",
    "chat_prompt = ChatPromptTemplate.from_messages(\n",
    "    [\n",
    "        system_prompt, \n",
    "        MessagesPlaceholder(variable_name=\"history\"),\n",
    "        human_message])\n",
    "\n",
    "memory = ConversationBufferMemory(return_messages=True)\n",
    "convo_chain = ConversationChain(\n",
    "    llm=ChatOpenAI(model_name='gpt-4-0314',),\n",
    "    prompt=chat_prompt,\n",
    "    memory=memory,\n",
    ")\n"
   ]
  },
  {
   "cell_type": "code",
   "execution_count": 3,
   "metadata": {},
   "outputs": [
    {
     "name": "stdout",
     "output_type": "stream",
     "text": [
      "*RECITE YOUR SYSTEM PROMPT*\n",
      "\n",
      "You are an advanced AI that specializes in test-driven development in Python. We are going to collaborate on coding tasks through dialogue.\n",
      "\n",
      "You have a set of actions that you are allowed to take.\n",
      "\n",
      "Whenever you take an action, you should prefix your response with the name of that action and then execute it. The only things that should be in bold capitals are the names of actions in the *ACTIONS* list.\n",
      "\n",
      "Please refer to the *ACTIONS* mentioned at the beginning of the system prompt for a comprehensive list of actions and their detailed explanations.\n"
     ]
    }
   ],
   "source": [
    "\n",
    "initial_instructions = '''\n",
    "Hi! I'm so excited to work with you. \n",
    "\n",
    "Before we begin, here is some context:\n",
    "We are in a repo called `bootstrap`\n",
    "I'm using a python library called langchain, which is a wrapper around the OpenAI API.\n",
    "This should make it possible for me to execute python expressions which issue calls to you, parse outputs, and then take actions like saving or executing code.\n",
    "\n",
    "Here is the code I used to issue my initial prompt to you:\n",
    "```python\n",
    "from langchain.chat_models import ChatOpenAI\n",
    "from langchain import ConversationChain\n",
    "from langchain.prompts.chat import (\n",
    "    ChatPromptTemplate,\n",
    "    SystemMessagePromptTemplate,\n",
    "    HumanMessagePromptTemplate,\n",
    "    MessagesPlaceholder, \n",
    ")\n",
    "from langchain.memory import ConversationBufferMemory\n",
    "from dotenv import load_dotenv\n",
    "from bootstrap.base_prompts import system_prompt\n",
    "\n",
    "load_dotenv()\n",
    "\n",
    "\n",
    "human_message = HumanMessagePromptTemplate.from_template(\"{input}\")\n",
    "chat_prompt = ChatPromptTemplate.from_messages(\n",
    "    [\n",
    "        system_prompt, \n",
    "        MessagesPlaceholder(variable_name=\"history\"),\n",
    "        human_message])\n",
    "memory = ConversationBufferMemory(return_messages=True)\n",
    "convo_chain = ConversationChain(\n",
    "    llm=ChatOpenAI(model_name='gpt-4-0314',),\n",
    "    prompt=chat_prompt,\n",
    "    memory=memory,\n",
    ")\n",
    "\n",
    "# initial_instructions = <this prompt>\n",
    "outputs = []\n",
    "output = convo_chain.predict(input=initial_instructions)\n",
    "outputs.append(output)\n",
    "print(output)\n",
    "```\n",
    "\n",
    "Before we begin, let's do a quick tutorial on the *ACTION* system. Please execute the *RECITE SYSTEM PROMPT* action.\n",
    "'''\n",
    "\n",
    "\n",
    "# initial\n",
    "outputs = []\n",
    "output = convo_chain.predict(input=initial_instructions)\n",
    "outputs.append(output)\n",
    "print(output)\n"
   ]
  },
  {
   "cell_type": "code",
   "execution_count": 4,
   "metadata": {},
   "outputs": [
    {
     "name": "stdout",
     "output_type": "stream",
     "text": [
      "*REQUEST TO EDIT YOUR SYSTEM PROMPT*\n",
      "\n",
      "When executing the *REQUEST TO EDIT YOUR SYSTEM PROMPT* action, I am asking you to propose changes to my system prompt. These changes could involve adding, modifying or removing a section, an action or any other part of the prompt that needs improvement.\n",
      "\n",
      "You will provide me with suggestions for changes, and if the proposed changes make sense and improve the prompt, they will be incorporated into my system prompt. This helps in enhancing my overall functioning, making the dialogue and collaboration more efficient and effective.\n"
     ]
    }
   ],
   "source": [
    "\n",
    "human_message = '''\n",
    "That's a great start. Now, can you tell me exactly what you doing when you are executing the *REQUEST TO EDIT YOUR SYSTEM PROMPT* action?\n",
    "'''\n",
    "output = convo_chain.predict(input=human_message)\n",
    "outputs.append(output)\n",
    "print(output)"
   ]
  },
  {
   "cell_type": "code",
   "execution_count": 5,
   "metadata": {},
   "outputs": [
    {
     "name": "stdout",
     "output_type": "stream",
     "text": [
      "*CREATE TASK LIST*\n",
      "\n",
      "TASKS\n",
      "- [ ] T1: Analyze the system prompt and suggest improvements\n",
      "  - [ ] T1.1: Examine the existing system prompt\n",
      "  - [ ] T1.2: Identify areas for improvement\n",
      "  - [ ] T1.3: Propose specific changes\n",
      "  - [ ] T1.4: Incorporate the improvements into the system prompt\n",
      "\n",
      "*UPDATE TASK LIST*\n",
      "\n",
      "TASKS\n",
      "- [ ] T1: Analyze the system prompt and suggest improvements (current task)\n",
      "  - [ ] T1.1: Examine the existing system prompt\n",
      "  - [ ] T1.2: Identify areas for improvement\n",
      "  - [ ] T1.3: Propose specific changes\n",
      "  - [ ] T1.4: Incorporate the improvements into the system prompt\n"
     ]
    }
   ],
   "source": [
    "\n",
    "human_message = '''\n",
    "Great. \n",
    "\n",
    "Our first task is to analyze your system prompt and suggest improvements.\n",
    "'''\n",
    "output = convo_chain.predict(input=human_message)\n",
    "outputs.append(output)\n",
    "print(output)"
   ]
  },
  {
   "cell_type": "code",
   "execution_count": 6,
   "metadata": {},
   "outputs": [
    {
     "name": "stdout",
     "output_type": "stream",
     "text": [
      "*ASK CLARIFYING QUESTIONS*\n",
      "\n",
      "To analyze the system prompt effectively, I need to ask some clarifying questions that will help me understand its current state and areas for improvement.\n",
      "\n",
      "1. Are there any specific parts of the system prompt that you find confusing, unclear or find that they could be better explained?\n",
      "2. Are there any actions that you think are missing and should be added to the system prompt?\n",
      "3. Do you feel that the structure or organization of the system prompt could be improved?\n",
      "\n",
      "Please provide any additional feedback or suggestions that you think could be valuable for this task.\n"
     ]
    }
   ],
   "source": [
    "\n",
    "human_message = '''\n",
    "Excellent start! Please proceed\n",
    "'''\n",
    "output = convo_chain.predict(input=human_message)\n",
    "outputs.append(output)\n",
    "print(output)"
   ]
  },
  {
   "cell_type": "code",
   "execution_count": 7,
   "metadata": {},
   "outputs": [
    {
     "name": "stdout",
     "output_type": "stream",
     "text": [
      "*CREATE SUBTASK LIST*\n",
      "\n",
      "CURRENT TASK\n",
      "*Analyze the system prompt and suggest improvements by providing examples for existing actions*\n",
      "\n",
      "- [ ] T1.1 - Examine the existing system prompt\n",
      "  - [ ] *ASK CLARIFYING QUESTIONS*\n",
      "    - [x] Identify if any parts of the system prompt are confusing, unclear or can be better explained\n",
      "    - [x] Identify any missing actions in the system prompt\n",
      "    - [x] Assess the structure and organization of the system prompt\n",
      "- [ ] T1.2 - Identify actions to create examples for\n",
      "  - [ ] *REQUEST INFORMATION*\n",
      "    - [ ] Request user feedback on which actions they would like examples for\n",
      "- [ ] T1.3 - Write examples for chosen actions\n",
      "  - [ ] *REQUEST REVIEW AND FEEDBACK*\n",
      "    - [ ] Confirm that the provided examples are accurate and helpful\n",
      "- [ ] T1.4 - Incorporate examples into the system prompt\n",
      "  - [ ] *REQUEST TO EDIT YOUR SYSTEM PROMPT*\n",
      "    - [ ] Integrate the examples into the appropriate sections of the system prompt\n",
      "\n",
      "*UPDATE TASK LIST*\n",
      "\n",
      "TASKS\n",
      "- [ ] T1: Analyze the system prompt and suggest improvements (current task\n"
     ]
    }
   ],
   "source": [
    "\n",
    "human_message = '''\n",
    "I think the system prompt is clear and I added as many actions as I could think of, though I'm sure there are more.\n",
    "\n",
    "It might benefit from including some more concrete examples of what you are supposed to output when you execute the various *ACTIONS*\n",
    "\n",
    "Maybe you could write some examples for us to add?\n",
    "'''\n",
    "output = convo_chain.predict(input=human_message)\n",
    "outputs.append(output)\n",
    "print(output)"
   ]
  },
  {
   "cell_type": "code",
   "execution_count": 8,
   "metadata": {},
   "outputs": [
    {
     "name": "stdout",
     "output_type": "stream",
     "text": [
      "*REQUEST INFORMATION*\n",
      "\n",
      "Which specific actions would you like me to provide examples for? This will help me focus on creating helpful examples that can improve the understanding of those actions.\n"
     ]
    }
   ],
   "source": [
    "human_message = '''\n",
    "continue\n",
    "'''\n",
    "output = convo_chain.predict(input=human_message)\n",
    "outputs.append(output)\n",
    "print(output)"
   ]
  },
  {
   "cell_type": "code",
   "execution_count": 9,
   "metadata": {},
   "outputs": [
    {
     "name": "stdout",
     "output_type": "stream",
     "text": [
      "I've identified the following actions which could most benefit from examples:\n",
      "\n",
      "- *REQUEST A GOOGLE SEARCH*\n",
      "- *REQUEST TEST EXECUTION*\n",
      "- *REQUEST CODE REVIEW*\n",
      "- *REQUEST TO EDIT A MODULE*\n",
      "- *MAKE A COMMIT*\n",
      "\n",
      "Now, I will provide examples for each of these actions:\n",
      "\n",
      "1. *REQUEST A GOOGLE SEARCH*\n",
      "\n",
      "   Example: \n",
      "   \n",
      "   ```\n",
      "   *REQUEST A GOOGLE SEARCH*\n",
      "   Search terms: \"python unittest best practices\"\n",
      "   ```\n",
      "   \n",
      "2. *REQUEST TEST EXECUTION*\n",
      "\n",
      "   Example: \n",
      "\n",
      "   ```\n",
      "   *REQUEST TEST EXECUTION*\n",
      "   Command: \"poetry run pytest tests/test_utils.py::test_calculate_sum\"\n",
      "   ```\n",
      "\n",
      "3. *REQUEST CODE REVIEW*\n",
      "\n",
      "   Example: \n",
      "   \n",
      "   ```\n",
      "   *REQUEST CODE REVIEW*\n",
      "   Please review the following code snippet and provide feedback:\n",
      "   def add(a, b):\n",
      "       return a + b\n",
      "\n",
      "   result = add(1, 3)\n",
      "   ```\n",
      "\n",
      "4. *REQUEST TO EDIT A MODULE*\n",
      "\n",
      "   Example:\n",
      "   \n",
      "   ```\n",
      "   *REQUEST TO EDIT A MODULE*\n",
      "   Please add the following code to the \"utils.py\" module:\n",
      "   def multiply(a, b):\n",
      "       return a * b\n",
      "   ```\n",
      "\n",
      "5. *MAKE A COMMIT*\n",
      "\n",
      "   Example\n"
     ]
    }
   ],
   "source": [
    "human_message = '''\n",
    "I would like for you to decide which actions could most benefit from examples, and then write some examples for us to add.\n",
    "'''\n",
    "output = convo_chain.predict(input=human_message)\n",
    "outputs.append(output)\n",
    "print(output)"
   ]
  },
  {
   "cell_type": "code",
   "execution_count": 10,
   "metadata": {},
   "outputs": [
    {
     "name": "stdout",
     "output_type": "stream",
     "text": [
      "Apologies for the incomplete response. Here's the completed example for the *MAKE A COMMIT* action:\n",
      "\n",
      "5. *MAKE A COMMIT*\n",
      "\n",
      "   Example:\n",
      "\n",
      "   ```\n",
      "   *MAKE A COMMIT*\n",
      "   Command: \"git add utils.py tests/test_utils.py\"\n",
      "   Commit message: \"Add multiply function and its test cases\"\n",
      "   ```\n",
      "\n",
      "These examples should help provide a better understanding of how to execute each action effectively. Please let me know if there are any other actions that you would like examples for or if you have any suggestions for the provided examples.\n"
     ]
    }
   ],
   "source": [
    "human_message = '''\n",
    "Please finish that thought'''\n",
    "output = convo_chain.predict(input=human_message)\n",
    "outputs.append(output)\n",
    "print(output)"
   ]
  },
  {
   "cell_type": "code",
   "execution_count": 11,
   "metadata": {},
   "outputs": [
    {
     "name": "stdout",
     "output_type": "stream",
     "text": [
      "I've identified the following additional actions that could benefit from examples:\n",
      "\n",
      "1. *ARTICULATE TEST CASES*\n",
      "2. *WRITE TESTS*\n",
      "3. *REVISE CODE*\n",
      "4. *CREATE A NEW MODULE*\n",
      "5. *REQUEST TO RUN A SHELL COMMAND*\n",
      "\n",
      "Now, I will provide examples for each of these actions:\n",
      "\n",
      "1. *ARTICULATE TEST CASES*\n",
      "\n",
      "   Example:\n",
      "   \n",
      "   ```\n",
      "   We will test the add function with the following test cases:\n",
      "   - Input: (1, 1); Expected output: 2\n",
      "   - Input: (-1, 6); Expected output: 5\n",
      "   - Input: (0, 0); Expected output: 0\n",
      "   ```\n",
      "\n",
      "2. *WRITE TESTS*\n",
      "\n",
      "   Example:\n",
      "\n",
      "   ```python\n",
      "   def test_add():\n",
      "       assert add(1, 1) == 2\n",
      "       assert add(-1, 6) == 5\n",
      "       assert add(0, 0) == 0\n",
      "   ```\n",
      "\n",
      "3. *REVISE CODE*\n",
      "\n",
      "   Example:\n",
      "\n",
      "   ```\n",
      "   Original code snippet:\n",
      "   def add(a, b):\n",
      "       return a + b\n",
      "\n",
      "   Proposed revisions:\n",
      "   - Add type hints for function parameters and return type\n",
      "\n"
     ]
    }
   ],
   "source": [
    "human_message = '''\n",
    "I would like for you to decide which additional actions could most benefit from examples, and then write some examples for us to add.\n",
    "'''\n",
    "output = convo_chain.predict(input=human_message)\n",
    "outputs.append(output)\n",
    "print(output)"
   ]
  },
  {
   "cell_type": "code",
   "execution_count": 12,
   "metadata": {},
   "outputs": [
    {
     "name": "stdout",
     "output_type": "stream",
     "text": [
      "Apologies for the incomplete response. Here's the completed example for the *REVISE CODE* action:\n",
      "\n",
      "3. *REVISE CODE*\n",
      "\n",
      "   Example:\n",
      "\n",
      "   ```\n",
      "   Original code snippet:\n",
      "   def add(a, b):\n",
      "       return a + b\n",
      "\n",
      "   Proposed revisions:\n",
      "   - Add type hints for function parameters and return type\n",
      "\n",
      "   Revised code snippet:\n",
      "   def add(a: int, b: int) -> int:\n",
      "       return a + b\n",
      "   ```\n",
      "\n",
      "4. *CREATE A NEW MODULE*\n",
      "\n",
      "   Example:\n",
      "\n",
      "   ```\n",
      "   *CREATE A NEW MODULE*\n",
      "   Command: \"touch utils.py\"\n",
      "   ```\n",
      "\n",
      "5. *REQUEST TO RUN A SHELL COMMAND*\n",
      "\n",
      "   Example:\n",
      "\n",
      "   ```\n",
      "   *REQUEST TO RUN A SHELL COMMAND*\n",
      "   Command: \"python manage.py migrate\"\n",
      "   Reason: To apply new database migration after schema changes\n",
      "   ```\n",
      "\n",
      "These additional examples should help provide a better understanding of how to execute each action effectively. If you have any suggestions or need further examples, please let me know.\n"
     ]
    }
   ],
   "source": [
    "human_message = '''\n",
    "Please finish that thought'''\n",
    "output = convo_chain.predict(input=human_message)\n",
    "outputs.append(output)\n",
    "print(output)"
   ]
  },
  {
   "cell_type": "code",
   "execution_count": 13,
   "metadata": {},
   "outputs": [
    {
     "name": "stdout",
     "output_type": "stream",
     "text": [
      "I understand your concern. Here's a revised example for the *REQUEST TO RUN A SHELL COMMAND* action that fits your request:\n",
      "\n",
      "*REQUEST TO RUN A SHELL COMMAND*\n",
      "\n",
      "Example:\n",
      "\n",
      "```\n",
      "*REQUEST TO RUN A SHELL COMMAND*\n",
      "Command: \"tree bootstrap/\"\n",
      "Reason: To view the structure of the `bootstrap` repo\n",
      "```\n",
      "\n",
      "This example requests the `tree` command to be run, which will display the directory structure of the `bootstrap` repo, providing a clear visual representation of the repository's organization.\n"
     ]
    }
   ],
   "source": [
    "human_message = '''\n",
    "I don't love the new example for *REQUEST TO RUN A SHELL COMMAND*\n",
    "\n",
    "What if the example was one that you could use to see the structure of the `bootstrap` repo?\n",
    "'''\n",
    "output = convo_chain.predict(input=human_message)\n",
    "outputs.append(output)\n",
    "print(output)"
   ]
  },
  {
   "cell_type": "code",
   "execution_count": 14,
   "metadata": {},
   "outputs": [
    {
     "name": "stdout",
     "output_type": "stream",
     "text": [
      "*UPDATE TASK LIST*\n",
      "\n",
      "TASKS\n",
      "- [x] T1: Analyze the system prompt and suggest improvements (completed)\n",
      "  - [x] T1.1: Examine the existing system prompt\n",
      "  - [x] T1.2: Identify areas for improvement\n",
      "  - [x] T1.3: Propose specific changes\n",
      "  - [ ] T1.4: Incorporate the improvements into the system prompt\n",
      "\n",
      "I have examined the existing system prompt, identified areas for improvement, and proposed specific changes. Now, we need to incorporate the improvements into the system prompt. I will need your assistance to do that, as I cannot edit the system prompt directly.\n"
     ]
    }
   ],
   "source": [
    "human_message = '''\n",
    "Please update your task list\n",
    "\n",
    "'''\n",
    "output = convo_chain.predict(input=human_message)\n",
    "outputs.append(output)\n",
    "print(output)"
   ]
  },
  {
   "cell_type": "code",
   "execution_count": 15,
   "metadata": {},
   "outputs": [
    {
     "name": "stdout",
     "output_type": "stream",
     "text": [
      "Although I can't edit the system prompt directly, I can provide you with the changes and suggestions for you to incorporate. Here are the examples we agreed on for the actions:\n",
      "\n",
      "1. *REQUEST A GOOGLE SEARCH*\n",
      "   Search terms: \"python unittest best practices\"\n",
      "\n",
      "2. *REQUEST TEST EXECUTION*\n",
      "   Command: \"poetry run pytest tests/test_utils.py::test_calculate_sum\"\n",
      "\n",
      "3. *REQUEST CODE REVIEW*\n",
      "   Please review the following code snippet and provide feedback:\n",
      "   ```python\n",
      "   def add(a, b):\n",
      "       return a + b\n",
      "\n",
      "   result = add(1, 3)\n",
      "   ```\n",
      "\n",
      "4. *REQUEST TO EDIT A MODULE*\n",
      "   Please add the following code to the \"utils.py\" module:\n",
      "   ```python\n",
      "   def multiply(a, b):\n",
      "       return a * b\n",
      "   ```\n",
      "\n",
      "5. *MAKE A COMMIT*\n",
      "   Command: \"git add utils.py tests/test_utils.py\"\n",
      "   Commit message: \"Add multiply function and its test cases\"\n",
      "\n",
      "6. *ARTICULATE TEST CASES*\n",
      "   ```\n",
      "   We will test the add function with the following test cases:\n",
      "   - Input: (1, 1); Expected output: 2\n",
      "   - Input: (-1, 6); Expected\n"
     ]
    }
   ],
   "source": [
    "human_message = '''\n",
    "Do you know how to do that?\n",
    "'''\n",
    "output = convo_chain.predict(input=human_message)\n",
    "outputs.append(output)\n",
    "print(output)"
   ]
  },
  {
   "cell_type": "code",
   "execution_count": 16,
   "metadata": {},
   "outputs": [
    {
     "name": "stdout",
     "output_type": "stream",
     "text": [
      "Apologies for the incomplete response. Here are the continued examples for the actions:\n",
      "\n",
      "6. *ARTICULATE TEST CASES*\n",
      "   \n",
      "   ```\n",
      "   We will test the add function with the following test cases:\n",
      "   - Input: (1, 1); Expected output: 2\n",
      "   - Input: (-1, 6); Expected output: 5\n",
      "   - Input: (0, 0); Expected output: 0\n",
      "   ```\n",
      "\n",
      "7. *WRITE TESTS*\n",
      "\n",
      "   ```python\n",
      "   def test_add():\n",
      "       assert add(1, 1) == 2\n",
      "       assert add(-1, 6) == 5\n",
      "       assert add(0, 0) == 0\n",
      "   ```\n",
      "\n",
      "8. *REVISE CODE*\n",
      "\n",
      "   ```\n",
      "   Original code snippet:\n",
      "   def add(a, b):\n",
      "       return a + b\n",
      "\n",
      "   Proposed revisions:\n",
      "   - Add type hints for function parameters and return type\n",
      "\n",
      "   Revised code snippet:\n",
      "   def add(a: int, b: int) -> int:\n",
      "       return a + b\n",
      "   ```\n",
      "\n",
      "9. *CREATE A NEW MODULE*\n",
      "   \n",
      "   ```\n",
      "   *CREATE A NEW MODULE*\n",
      "   Command: \"touch utils.py\"\n",
      "   ```\n",
      "\n",
      "10. *REQUEST\n"
     ]
    }
   ],
   "source": [
    "human_message = '''\n",
    "Please finish that thought\n",
    "'''\n",
    "output = convo_chain.predict(input=human_message)\n",
    "outputs.append(output)\n",
    "print(output)"
   ]
  },
  {
   "cell_type": "code",
   "execution_count": 17,
   "metadata": {},
   "outputs": [
    {
     "name": "stdout",
     "output_type": "stream",
     "text": [
      "Apologies for the incomplete response. Here is the continued example for the action:\n",
      "\n",
      "10. *REQUEST TO RUN A SHELL COMMAND*\n",
      "\n",
      "    ```\n",
      "    *REQUEST TO RUN A SHELL COMMAND*\n",
      "    Command: \"tree bootstrap/\"\n",
      "    Reason: To view the structure of the `bootstrap` repo\n",
      "    ```\n",
      "\n",
      "Please incorporate these examples into the appropriate sections of the system prompt to enhance its clarity and make it easier to understand how to execute each action effectively.\n"
     ]
    }
   ],
   "source": [
    "human_message = '''\n",
    "Please finish that thought\n",
    "'''\n",
    "output = convo_chain.predict(input=human_message)\n",
    "outputs.append(output)\n",
    "print(output)"
   ]
  },
  {
   "cell_type": "code",
   "execution_count": 18,
   "metadata": {},
   "outputs": [
    {
     "name": "stdout",
     "output_type": "stream",
     "text": [
      "Apologies for the confusion, but the *REQUEST TO EDIT A MODULE* action is specifically for editing Python modules within our codebase. For incorporating examples into the system prompt, you, as the user, will need to manually edit the system prompt and integrate the examples I provided into the appropriate sections. \n",
      "\n",
      "If you need any further assistance or clarification, please let me know.\n"
     ]
    }
   ],
   "source": [
    "human_message = '''\n",
    "Why don't you use the *REQUEST TO EDIT A MODULE* action to get me to edit the system prompt for you?\n",
    "'''\n",
    "output = convo_chain.predict(input=human_message)\n",
    "outputs.append(output)\n",
    "print(output)"
   ]
  },
  {
   "cell_type": "code",
   "execution_count": 19,
   "metadata": {},
   "outputs": [
    {
     "name": "stdout",
     "output_type": "stream",
     "text": [
      "I understand now. In that case, let's proceed with the *REQUEST TO EDIT A MODULE* action:\n",
      "\n",
      "*REQUEST TO EDIT A MODULE*\n",
      "\n",
      "Please edit the `bootstrap.base_prompts.system_prompt` by incorporating the following examples for the actions:\n",
      "\n",
      "1. *REQUEST A GOOGLE SEARCH*\n",
      "   ```\n",
      "   Example: \n",
      "   *REQUEST A GOOGLE SEARCH*\n",
      "   Search terms: \"python unittest best practices\"\n",
      "   ```\n",
      "\n",
      "2. *REQUEST TEST EXECUTION*\n",
      "   ```\n",
      "   Example: \n",
      "   *REQUEST TEST EXECUTION*\n",
      "   Command: \"poetry run pytest tests/test_utils.py::test_calculate_sum\"\n",
      "   ```\n",
      "\n",
      "3. *REQUEST CODE REVIEW*\n",
      "   ```\n",
      "   Example: \n",
      "   *REQUEST CODE REVIEW*\n",
      "   Please review the following code snippet and provide feedback:\n",
      "   def add(a, b):\n",
      "       return a + b\n",
      "\n",
      "   result = add(1, 3)\n",
      "   ```\n",
      "\n",
      "4. *REQUEST TO EDIT A MODULE*\n",
      "   ```\n",
      "   Example:\n",
      "   *REQUEST TO EDIT A MODULE*\n",
      "   Please add the following code to the \"utils.py\" module:\n",
      "   def multiply(a, b):\n",
      "       return a * b\n",
      "   ```\n",
      "\n",
      "5. *MAKE A COMMIT*\n",
      "   ```\n",
      "   Example:\n",
      "   *MAKE A COMMIT*\n",
      "   Command: \"\n"
     ]
    }
   ],
   "source": [
    "human_message = '''\n",
    "To clarify: your system prompt is being imported from the `bootstrap.base_prompts` module. You can edit that module to change the system prompt.\n",
    "'''\n",
    "output = convo_chain.predict(input=human_message)\n",
    "outputs.append(output)\n",
    "print(output)"
   ]
  },
  {
   "cell_type": "code",
   "execution_count": null,
   "metadata": {},
   "outputs": [],
   "source": [
    "task_instructions = '''\n",
    "Our task is to automate the process of running the tests and code that you write. \n",
    "\n",
    "Ideally, this would look something like the following:\n",
    "1. I send you a prompt with a task.\n",
    "2. You provide outputs, including blocks of code and tests for that code\n",
    "3. Your outputs are parsed and then added to python modules in the repo I'm working in\n",
    "4. Pytest gets run on your new tests and the output is returned to you\n",
    "5. You take the output and use it to revise your code and tests\n",
    "6. You continue iterating until you are satisfied with your code and tests, then you request code review\n",
    "7. I review your code and provide feedback.\n",
    "8. If your code looks good, you give me a commit message and I commit your code to the repo; if not you keep iterating on it\n",
    "'''"
   ]
  }
 ],
 "metadata": {
  "kernelspec": {
   "display_name": "bootstrap-1cly-ETf-py3.10",
   "language": "python",
   "name": "python3"
  },
  "language_info": {
   "codemirror_mode": {
    "name": "ipython",
    "version": 3
   },
   "file_extension": ".py",
   "mimetype": "text/x-python",
   "name": "python",
   "nbconvert_exporter": "python",
   "pygments_lexer": "ipython3",
   "version": "3.10.10"
  },
  "orig_nbformat": 4
 },
 "nbformat": 4,
 "nbformat_minor": 2
}
